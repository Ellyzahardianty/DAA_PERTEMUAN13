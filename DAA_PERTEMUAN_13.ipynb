{
  "nbformat": 4,
  "nbformat_minor": 0,
  "metadata": {
    "colab": {
      "provenance": []
    },
    "kernelspec": {
      "name": "python3",
      "display_name": "Python 3"
    },
    "language_info": {
      "name": "python"
    }
  },
  "cells": [
    {
      "cell_type": "code",
      "execution_count": 126,
      "metadata": {
        "id": "ksqYDlVEbcKf"
      },
      "outputs": [],
      "source": [
        "# Slide 10\n",
        "# Implementasi Algoritma Breadth-first Search\n",
        "def bfs(graph,start):\n",
        "  visited=[]\n",
        "  queue = []\n",
        "  queue =[start]\n",
        "  while queue:\n",
        "    node = queue.pop(0)\n",
        "    if node not in visited:\n",
        "      visited.append(node)\n",
        "      neighbours = graph[node]\n",
        "      for neighbour in neighbours:\n",
        "        queue.append(neighbour)\n",
        "  return visited"
      ]
    },
    {
      "cell_type": "code",
      "source": [
        "# Slide 11\n",
        "# Implementasi Algoritma Breadth-first Search\n",
        "graph = {'amin' : ['wasim','nick','mike'],\n",
        "         'wasim' : ['imran','amin'],\n",
        "         'imran' : ['wasim','faras'],\n",
        "         'faras' : ['imran'],\n",
        "         'mike' : ['amin'],\n",
        "         'nick' : ['amin']\n",
        "}"
      ],
      "metadata": {
        "id": "FVR_6fOgc739"
      },
      "execution_count": 127,
      "outputs": []
    },
    {
      "cell_type": "code",
      "source": [
        "bfs(graph,'amin')"
      ],
      "metadata": {
        "colab": {
          "base_uri": "https://localhost:8080/"
        },
        "id": "Dmjh2n43duHt",
        "outputId": "985bd86f-1ea1-4243-aeea-7da89ff31b23"
      },
      "execution_count": 128,
      "outputs": [
        {
          "output_type": "execute_result",
          "data": {
            "text/plain": [
              "['amin', 'wasim', 'nick', 'mike', 'imran', 'faras']"
            ]
          },
          "metadata": {},
          "execution_count": 128
        }
      ]
    },
    {
      "cell_type": "code",
      "source": [
        "# Slide 13\n",
        "# Implementasi Algoritma Breadth-first Search\n",
        "# o amin ---------------------\n",
        "# |             |           |\n",
        "# o wasim    o nick     o mike\n",
        "# |\n",
        "# o imran\n",
        "# |\n",
        "# o faras\n",
        "\n",
        "bfs(graph, 'amin')"
      ],
      "metadata": {
        "colab": {
          "base_uri": "https://localhost:8080/"
        },
        "id": "YN7-kLeGd9yk",
        "outputId": "77c72b47-b533-41f3-fbed-40a80b21a11a"
      },
      "execution_count": 129,
      "outputs": [
        {
          "output_type": "execute_result",
          "data": {
            "text/plain": [
              "['amin', 'wasim', 'nick', 'mike', 'imran', 'faras']"
            ]
          },
          "metadata": {},
          "execution_count": 129
        }
      ]
    },
    {
      "cell_type": "code",
      "source": [
        "# Slide 14\n",
        "# Implementasi Algoritma Breadth-first Search\n",
        "# o amin ---------------------\n",
        "# |             |           |\n",
        "# o wasim    o nick     o mike\n",
        "# |\n",
        "# o imran\n",
        "# |\n",
        "# o faras\n",
        "\n",
        "bfs(graph, 'wasim')"
      ],
      "metadata": {
        "colab": {
          "base_uri": "https://localhost:8080/"
        },
        "id": "tpHDJKlLevxM",
        "outputId": "0aad2eb0-d79e-4ec1-ae81-24ae409aa6a2"
      },
      "execution_count": 130,
      "outputs": [
        {
          "output_type": "execute_result",
          "data": {
            "text/plain": [
              "['wasim', 'imran', 'amin', 'faras', 'nick', 'mike']"
            ]
          },
          "metadata": {},
          "execution_count": 130
        }
      ]
    },
    {
      "cell_type": "code",
      "source": [
        "# Slide 15\n",
        "# Implementasi Algoritma Breadth-first Search\n",
        "# o amin ---------------------\n",
        "# |             |           |\n",
        "# o wasim    o nick     o mike\n",
        "# |\n",
        "# o imran\n",
        "# |\n",
        "# o faras\n",
        "\n",
        "bfs(graph, 'faras')"
      ],
      "metadata": {
        "colab": {
          "base_uri": "https://localhost:8080/"
        },
        "id": "jnE_6Y70e8f9",
        "outputId": "e1d54636-bc36-4c06-baa3-feaed3f45b68"
      },
      "execution_count": 131,
      "outputs": [
        {
          "output_type": "execute_result",
          "data": {
            "text/plain": [
              "['faras', 'imran', 'wasim', 'amin', 'nick', 'mike']"
            ]
          },
          "metadata": {},
          "execution_count": 131
        }
      ]
    },
    {
      "cell_type": "code",
      "source": [
        "bfs(graph,'imran')"
      ],
      "metadata": {
        "colab": {
          "base_uri": "https://localhost:8080/"
        },
        "id": "0uFSlm_mjZl8",
        "outputId": "c07a203d-53eb-4f3f-b775-f9892318065d"
      },
      "execution_count": 132,
      "outputs": [
        {
          "output_type": "execute_result",
          "data": {
            "text/plain": [
              "['imran', 'wasim', 'faras', 'amin', 'nick', 'mike']"
            ]
          },
          "metadata": {},
          "execution_count": 132
        }
      ]
    },
    {
      "cell_type": "code",
      "source": [
        "# Slide 17\n",
        "# Latihan BFS\n",
        "\n",
        "# o Rektor ------------\n",
        "# |                   |\n",
        "# o warek 1           o warek 2\n",
        "# --------------------|----------------\n",
        "# |                   |               |\n",
        "# o kaprodi 1         o kaprodi 2     o kaprodi 3\n",
        "# |                   |               |\n",
        "# |-- o dosen A       |--o dosen d    |--o dosen f\n",
        "# |                   |               |\n",
        "# |-- o dosen b       |--o dosen e    |--o dosen g\n",
        "# |\n",
        "# |-- o dosen c"
      ],
      "metadata": {
        "id": "qK5tvem3zQqY"
      },
      "execution_count": 133,
      "outputs": []
    },
    {
      "cell_type": "code",
      "source": [
        "# Slide 17\n",
        "# Latihan BFS\n",
        "\n",
        "graph = {'rektor' : ['warek1','warek2'],\n",
        "         'warek1' : ['rektor'],\n",
        "         'warek2' : ['kaprodi1','kaprodi2','kaprodi3','rektor'],\n",
        "         'kaprodi1' : ['dosenA','dosenB','dosenC','warek2'],\n",
        "         'kaprodi2' : ['dosenD','dosenE','warek2'],\n",
        "         'kaprodi3' : ['dosenF','dosenG','warek2'],\n",
        "         'dosenG' : ['kaprodi3'],\n",
        "         'dosenF' : ['kaprodi3'],\n",
        "         'dosenE' : ['kaprodi2'],\n",
        "         'dosenD' : ['kaprodi2'],\n",
        "         'dosenC' : ['kaprodi1'],\n",
        "         'dosenB' : ['kaprodi1'],\n",
        "         'dosenA' : ['kaprodi1']\n",
        "        }"
      ],
      "metadata": {
        "id": "x85EIdN3r5Ix"
      },
      "execution_count": 134,
      "outputs": []
    },
    {
      "cell_type": "code",
      "source": [
        "# Slide 17\n",
        "# Latihan BFS\n",
        "\n",
        "bfs(graph,'rektor')"
      ],
      "metadata": {
        "colab": {
          "base_uri": "https://localhost:8080/"
        },
        "id": "kGoVSBAkzUPS",
        "outputId": "3c1deee0-5a4c-4a9f-a3e7-c1db6592a632"
      },
      "execution_count": 135,
      "outputs": [
        {
          "output_type": "execute_result",
          "data": {
            "text/plain": [
              "['rektor',\n",
              " 'warek1',\n",
              " 'warek2',\n",
              " 'kaprodi1',\n",
              " 'kaprodi2',\n",
              " 'kaprodi3',\n",
              " 'dosenA',\n",
              " 'dosenB',\n",
              " 'dosenC',\n",
              " 'dosenD',\n",
              " 'dosenE',\n",
              " 'dosenF',\n",
              " 'dosenG']"
            ]
          },
          "metadata": {},
          "execution_count": 135
        }
      ]
    },
    {
      "cell_type": "code",
      "source": [
        "# Slide 17\n",
        "# Latihan BFS\n",
        "\n",
        "bfs(graph,'warek2')"
      ],
      "metadata": {
        "colab": {
          "base_uri": "https://localhost:8080/"
        },
        "id": "lqNlpK74zhDs",
        "outputId": "c50e731c-7bd1-4e79-e0d5-54b12397f6c6"
      },
      "execution_count": 136,
      "outputs": [
        {
          "output_type": "execute_result",
          "data": {
            "text/plain": [
              "['warek2',\n",
              " 'kaprodi1',\n",
              " 'kaprodi2',\n",
              " 'kaprodi3',\n",
              " 'rektor',\n",
              " 'dosenA',\n",
              " 'dosenB',\n",
              " 'dosenC',\n",
              " 'dosenD',\n",
              " 'dosenE',\n",
              " 'dosenF',\n",
              " 'dosenG',\n",
              " 'warek1']"
            ]
          },
          "metadata": {},
          "execution_count": 136
        }
      ]
    },
    {
      "cell_type": "code",
      "source": [
        "# Slide 17\n",
        "# Latihan BFS\n",
        "\n",
        "bfs(graph,'kaprodi3')"
      ],
      "metadata": {
        "colab": {
          "base_uri": "https://localhost:8080/"
        },
        "id": "7BKRNHYq01FX",
        "outputId": "399fa48f-bee5-4781-9386-485fcd484fcc"
      },
      "execution_count": 137,
      "outputs": [
        {
          "output_type": "execute_result",
          "data": {
            "text/plain": [
              "['kaprodi3',\n",
              " 'dosenF',\n",
              " 'dosenG',\n",
              " 'warek2',\n",
              " 'kaprodi1',\n",
              " 'kaprodi2',\n",
              " 'rektor',\n",
              " 'dosenA',\n",
              " 'dosenB',\n",
              " 'dosenC',\n",
              " 'dosenD',\n",
              " 'dosenE',\n",
              " 'warek1']"
            ]
          },
          "metadata": {},
          "execution_count": 137
        }
      ]
    },
    {
      "cell_type": "code",
      "source": [
        "# Slide 17\n",
        "# Latihan BFS\n",
        "\n",
        "bfs(graph,'dosenB')"
      ],
      "metadata": {
        "colab": {
          "base_uri": "https://localhost:8080/"
        },
        "id": "4KT8ZP9Y4sGy",
        "outputId": "b1dc7a8a-837d-4667-dc28-5ff70b853537"
      },
      "execution_count": 138,
      "outputs": [
        {
          "output_type": "execute_result",
          "data": {
            "text/plain": [
              "['dosenB',\n",
              " 'kaprodi1',\n",
              " 'dosenA',\n",
              " 'dosenC',\n",
              " 'warek2',\n",
              " 'kaprodi2',\n",
              " 'kaprodi3',\n",
              " 'rektor',\n",
              " 'dosenD',\n",
              " 'dosenE',\n",
              " 'dosenF',\n",
              " 'dosenG',\n",
              " 'warek1']"
            ]
          },
          "metadata": {},
          "execution_count": 138
        }
      ]
    },
    {
      "cell_type": "code",
      "source": [
        "# Slide 6\n",
        "\n",
        "graph = {'0' : ['9','7','11'],\n",
        "         '9' : ['8','10','0'],\n",
        "         '7' : ['6','3','0','11'],\n",
        "         '8' : ['1','12','9'],\n",
        "         '6' : ['5','7'],\n",
        "         '12' : ['2','8'],\n",
        "         '3' : ['2','4','7'],\n",
        "         '5' : ['6'],\n",
        "         '4' : ['3'],\n",
        "         '10' : ['9','1'],\n",
        "         '11' : ['0','7'],\n",
        "         '1' : ['10','8'],\n",
        "         '2' : ['12','3']\n",
        "        }"
      ],
      "metadata": {
        "id": "xufk05Ypf93t"
      },
      "execution_count": 139,
      "outputs": []
    },
    {
      "cell_type": "code",
      "source": [
        "# Slide 6\n",
        "# Latihan BFS\n",
        "\n",
        "bfs(graph,'0')"
      ],
      "metadata": {
        "colab": {
          "base_uri": "https://localhost:8080/"
        },
        "id": "FmXlyDv526Bu",
        "outputId": "f57cfad7-2a7d-40a0-ebc6-d4f31dbf1094"
      },
      "execution_count": 140,
      "outputs": [
        {
          "output_type": "execute_result",
          "data": {
            "text/plain": [
              "['0', '9', '7', '11', '8', '10', '6', '3', '1', '12', '5', '2', '4']"
            ]
          },
          "metadata": {},
          "execution_count": 140
        }
      ]
    },
    {
      "cell_type": "code",
      "source": [
        "# Slide 6\n",
        "# Latihan BFS\n",
        "\n",
        "bfs(graph,'4')"
      ],
      "metadata": {
        "colab": {
          "base_uri": "https://localhost:8080/"
        },
        "id": "irzRn0K938K1",
        "outputId": "399cb87c-dda2-4dd2-f76c-30216464d2ad"
      },
      "execution_count": 141,
      "outputs": [
        {
          "output_type": "execute_result",
          "data": {
            "text/plain": [
              "['4', '3', '2', '7', '12', '6', '0', '11', '8', '5', '9', '1', '10']"
            ]
          },
          "metadata": {},
          "execution_count": 141
        }
      ]
    },
    {
      "cell_type": "code",
      "source": [
        "# Slide 6\n",
        "# Latihan BFS\n",
        "\n",
        "bfs(graph,'8')"
      ],
      "metadata": {
        "colab": {
          "base_uri": "https://localhost:8080/"
        },
        "id": "02uN7Pps4kKF",
        "outputId": "3a79aa20-6bd0-4c42-dcab-35f58f42c364"
      },
      "execution_count": 142,
      "outputs": [
        {
          "output_type": "execute_result",
          "data": {
            "text/plain": [
              "['8', '1', '12', '9', '10', '2', '0', '3', '7', '11', '4', '6', '5']"
            ]
          },
          "metadata": {},
          "execution_count": 142
        }
      ]
    },
    {
      "cell_type": "code",
      "source": [
        "# Slide 6\n",
        "# Latihan BFS\n",
        "\n",
        "bfs(graph,'7')"
      ],
      "metadata": {
        "colab": {
          "base_uri": "https://localhost:8080/"
        },
        "id": "c315yRH__yys",
        "outputId": "f8e9b3fd-935f-49f7-8dd1-3cdf1c75ab9a"
      },
      "execution_count": 143,
      "outputs": [
        {
          "output_type": "execute_result",
          "data": {
            "text/plain": [
              "['7', '6', '3', '0', '11', '5', '2', '4', '9', '12', '8', '10', '1']"
            ]
          },
          "metadata": {},
          "execution_count": 143
        }
      ]
    },
    {
      "cell_type": "code",
      "source": [
        "# Slide 21\n",
        "# DEPTH-FIRST SEARCH\n",
        "\n",
        "def dfs(visited, graph, node):\n",
        "  if node not in visited:\n",
        "    print(node)\n",
        "    visited.add(node)\n",
        "    for neighbour in graph[node]:\n",
        "      dfs(visited, graph, neighbour)"
      ],
      "metadata": {
        "id": "mj0QedZx1X3R"
      },
      "execution_count": 144,
      "outputs": []
    },
    {
      "cell_type": "code",
      "source": [
        "# Slide 20\n",
        "# Latihan DFS\n",
        "\n",
        "graph = {'0' : ['9','1'],\n",
        "         '1' : ['0','9'],\n",
        "         '9' : ['0','8'],\n",
        "         '8' : ['1','7','9'],\n",
        "         '7' : ['10','11','6','3'],\n",
        "         '10' : ['7','11'],\n",
        "         '11' : ['10','7'],\n",
        "         '6' : ['5','7'],\n",
        "         '5' : ['3','6'],\n",
        "         '3' : ['7','4','5','2'],\n",
        "         '4' : ['3'],\n",
        "         '2' : ['3'],\n",
        "         '12' : ['12']\n",
        "        }"
      ],
      "metadata": {
        "id": "WNbbKfHFJMHz"
      },
      "execution_count": 155,
      "outputs": []
    },
    {
      "cell_type": "code",
      "source": [
        "# Slide 20\n",
        "# Latihan DFS\n",
        "\n",
        "visited = set()\n",
        "dfs(visited, graph, '0')"
      ],
      "metadata": {
        "colab": {
          "base_uri": "https://localhost:8080/"
        },
        "id": "S4TX7OX1KCNP",
        "outputId": "cef26bd4-a94e-456c-e030-a83d90585333"
      },
      "execution_count": 156,
      "outputs": [
        {
          "output_type": "stream",
          "name": "stdout",
          "text": [
            "0\n",
            "9\n",
            "8\n",
            "1\n",
            "7\n",
            "10\n",
            "11\n",
            "6\n",
            "5\n",
            "3\n",
            "4\n",
            "2\n"
          ]
        }
      ]
    },
    {
      "cell_type": "code",
      "source": [
        "# Slide 20\n",
        "# Latihan DFS\n",
        "\n",
        "visited = set()\n",
        "dfs(visited, graph, '3')"
      ],
      "metadata": {
        "colab": {
          "base_uri": "https://localhost:8080/"
        },
        "id": "AZAWqcsgKK-S",
        "outputId": "3682fc93-1abd-448f-d853-c0bd68100a59"
      },
      "execution_count": 157,
      "outputs": [
        {
          "output_type": "stream",
          "name": "stdout",
          "text": [
            "3\n",
            "7\n",
            "10\n",
            "11\n",
            "6\n",
            "5\n",
            "4\n",
            "2\n"
          ]
        }
      ]
    },
    {
      "cell_type": "code",
      "source": [
        "# Slide 20\n",
        "# Latihan DFS\n",
        "\n",
        "visited = set()\n",
        "dfs(visited, graph, '4')"
      ],
      "metadata": {
        "colab": {
          "base_uri": "https://localhost:8080/"
        },
        "id": "nF76DsjDKWiI",
        "outputId": "9ceb8fcf-3fce-4322-8a29-83c82c9383b3"
      },
      "execution_count": 158,
      "outputs": [
        {
          "output_type": "stream",
          "name": "stdout",
          "text": [
            "4\n",
            "3\n",
            "7\n",
            "10\n",
            "11\n",
            "6\n",
            "5\n",
            "2\n"
          ]
        }
      ]
    },
    {
      "cell_type": "code",
      "source": [
        "# Latihan DFS\n",
        "\n",
        "graph = {'rektor' : ['warek2','warek1'],\n",
        "         'warek1' : ['rektor'],\n",
        "         'warek2' : ['kaprodi1','kaprodi2','kaprodi3','rektor'],\n",
        "         'kaprodi1' : ['dosenA','dosenB','dosenC','warek2'],\n",
        "         'kaprodi2' : ['dosenD','dosenE','warek2'],\n",
        "         'kaprodi3' : ['dosenF','dosenG','warek2'],\n",
        "         'dosenG' : ['kaprodi3'],\n",
        "         'dosenF' : ['kaprodi3'],\n",
        "         'dosenD' : ['kaprodi2'],\n",
        "         'dosenE' : ['kaprodi2'],\n",
        "         'dosenA' : ['kaprodi1'],\n",
        "         'dosenB' : ['kaprodi1'],\n",
        "         'dosenC' : ['kaprodi1']\n",
        "        }"
      ],
      "metadata": {
        "id": "ocwCKDp722mQ"
      },
      "execution_count": 166,
      "outputs": []
    },
    {
      "cell_type": "code",
      "source": [
        "# Latihan DFS\n",
        "\n",
        "visited = set()\n",
        "dfs(visited, graph, 'rektor')"
      ],
      "metadata": {
        "colab": {
          "base_uri": "https://localhost:8080/"
        },
        "id": "HmjlOIxU26qw",
        "outputId": "8050f9ad-0bae-4ba6-e6ef-2634fe7263d8"
      },
      "execution_count": 167,
      "outputs": [
        {
          "output_type": "stream",
          "name": "stdout",
          "text": [
            "rektor\n",
            "warek2\n",
            "kaprodi1\n",
            "dosenA\n",
            "dosenB\n",
            "dosenC\n",
            "kaprodi2\n",
            "dosenD\n",
            "dosenE\n",
            "kaprodi3\n",
            "dosenF\n",
            "dosenG\n",
            "warek1\n"
          ]
        }
      ]
    },
    {
      "cell_type": "code",
      "source": [
        "# Latihan DFS\n",
        "\n",
        "visited = set()\n",
        "dfs(visited, graph, 'warek2')"
      ],
      "metadata": {
        "colab": {
          "base_uri": "https://localhost:8080/"
        },
        "id": "rO_W8gSYTGt4",
        "outputId": "4ae63320-2962-4bd4-b3fe-68d23e6b1ef7"
      },
      "execution_count": 151,
      "outputs": [
        {
          "output_type": "stream",
          "name": "stdout",
          "text": [
            "warek2\n",
            "kaprodi1\n",
            "dosenA\n",
            "dosenB\n",
            "dosenC\n",
            "kaprodi2\n",
            "dosenD\n",
            "dosenE\n",
            "kaprodi3\n",
            "dosenF\n",
            "dosenG\n",
            "rektor\n",
            "warek1\n"
          ]
        }
      ]
    },
    {
      "cell_type": "code",
      "source": [
        "# Latihan DFS\n",
        "\n",
        "visited = set()\n",
        "dfs(visited, graph, 'kaprodi1')"
      ],
      "metadata": {
        "colab": {
          "base_uri": "https://localhost:8080/"
        },
        "id": "OACizpIwTL1Q",
        "outputId": "ea7a8361-742d-4c02-da33-6b479e7f6d30"
      },
      "execution_count": 152,
      "outputs": [
        {
          "output_type": "stream",
          "name": "stdout",
          "text": [
            "kaprodi1\n",
            "dosenA\n",
            "dosenB\n",
            "dosenC\n",
            "warek2\n",
            "kaprodi2\n",
            "dosenD\n",
            "dosenE\n",
            "kaprodi3\n",
            "dosenF\n",
            "dosenG\n",
            "rektor\n",
            "warek1\n"
          ]
        }
      ]
    },
    {
      "cell_type": "code",
      "source": [
        "# Latihan DFS\n",
        "\n",
        "visited = set()\n",
        "dfs(visited, graph, 'dosenA')"
      ],
      "metadata": {
        "colab": {
          "base_uri": "https://localhost:8080/"
        },
        "id": "fYIPEWxlTP85",
        "outputId": "4d0a4e70-d5a1-433e-f263-708dfb350fa5"
      },
      "execution_count": 160,
      "outputs": [
        {
          "output_type": "stream",
          "name": "stdout",
          "text": [
            "dosenA\n",
            "kaprodi1\n",
            "dosenB\n",
            "dosenC\n",
            "warek2\n",
            "kaprodi2\n",
            "dosenD\n",
            "dosenE\n",
            "kaprodi3\n",
            "dosenF\n",
            "dosenG\n",
            "rektor\n",
            "warek1\n"
          ]
        }
      ]
    },
    {
      "cell_type": "code",
      "source": [
        "# Slide 22\n",
        "\n",
        "graph = {'amin' : ['wasim','nick','mike'],\n",
        "         'wasim' : ['imran','amin'],\n",
        "         'imran' : ['wasim','faras'],\n",
        "         'faras' : ['imran'],\n",
        "         'mike' : ['amin'],\n",
        "         'nick' : ['amin']\n",
        "}"
      ],
      "metadata": {
        "id": "km4SPf932M2A"
      },
      "execution_count": 161,
      "outputs": []
    },
    {
      "cell_type": "code",
      "source": [
        "# Slide 24\n",
        "\n",
        "# o amin ---------------------\n",
        "# |             |           |\n",
        "# o wasim    o nick     o mike\n",
        "# |\n",
        "# o imran\n",
        "# |\n",
        "# o faras\n",
        "visited = set()\n",
        "dfs(visited, graph, 'amin')"
      ],
      "metadata": {
        "id": "wV-DPixv2S0w"
      },
      "execution_count": null,
      "outputs": []
    },
    {
      "cell_type": "code",
      "source": [
        "# Slide 25\n",
        "\n",
        "# o amin ---------------------\n",
        "# |             |           |\n",
        "# o wasim    o nick     o mike\n",
        "# |\n",
        "# o imran\n",
        "# |\n",
        "# o faras\n",
        "visited = set()\n",
        "dfs(visited, graph, 'wasim')"
      ],
      "metadata": {
        "colab": {
          "base_uri": "https://localhost:8080/"
        },
        "id": "ZTi_RrwP2jfw",
        "outputId": "118ae145-8fa0-4bbd-9e42-1fe69f754347"
      },
      "execution_count": 163,
      "outputs": [
        {
          "output_type": "stream",
          "name": "stdout",
          "text": [
            "wasim\n",
            "imran\n",
            "faras\n",
            "amin\n",
            "nick\n",
            "mike\n"
          ]
        }
      ]
    },
    {
      "cell_type": "code",
      "source": [
        "#Slide 26\n",
        "\n",
        "# o amin ---------------------\n",
        "# |             |           |\n",
        "# o wasim    o nick     o mike\n",
        "# |\n",
        "# o imran\n",
        "# |\n",
        "# o faras\n",
        "visited = set()\n",
        "dfs(visited, graph, 'faras')"
      ],
      "metadata": {
        "colab": {
          "base_uri": "https://localhost:8080/"
        },
        "id": "NFwZoSnK2opQ",
        "outputId": "bc29b0bf-f00b-41e5-f5c9-d5dcb0da3e52"
      },
      "execution_count": 164,
      "outputs": [
        {
          "output_type": "stream",
          "name": "stdout",
          "text": [
            "faras\n",
            "imran\n",
            "wasim\n",
            "amin\n",
            "nick\n",
            "mike\n"
          ]
        }
      ]
    },
    {
      "cell_type": "code",
      "source": [
        "#Slide 27\n",
        "\n",
        "# o amin ---------------------\n",
        "# |             |           |\n",
        "# o wasim    o nick     o mike\n",
        "# |\n",
        "# o imran\n",
        "# |\n",
        "# o faras\n",
        "visited = set()\n",
        "dfs(visited, graph, 'nick')"
      ],
      "metadata": {
        "colab": {
          "base_uri": "https://localhost:8080/"
        },
        "id": "vno4JdSX2wmQ",
        "outputId": "cda5f62a-b204-4e2e-d450-5135311b97f0"
      },
      "execution_count": 165,
      "outputs": [
        {
          "output_type": "stream",
          "name": "stdout",
          "text": [
            "nick\n",
            "amin\n",
            "wasim\n",
            "imran\n",
            "faras\n",
            "mike\n"
          ]
        }
      ]
    },
    {
      "cell_type": "markdown",
      "source": [
        "**Analisis Algoritma Breadth-First Search (BFS) dan Depth-First Search (DFS)**\n",
        "\n",
        "\n",
        "*   Breadth-First Search (BFS)\n",
        "\n",
        "Menjelajahi graf secara level per level, dimulai dari simpul awal\n",
        "Memiliki hasil yang sama dengan DFS karena graf tersebut tidak memiliki cabang yang membuat kedua algoritma berbeda.\n",
        "Mengunjungi semua node pada level yang sama terlebih dahulu sebelum turun ke level berikutnya\n",
        "\n",
        "\n",
        "*   Depth-First Search (DFS)\n",
        "\n",
        "DFS dimulai dengan menjelajahi satu simpul dari graf. Kemudian, ia menjelajahi semua simpul yang terhubung langsung dengan simpul tersebut.\n",
        "Jika tidak ada simpul yang dapat dijelajahi lagi dari simpul tersebut, DFS akan \"kembali\" ke simpul sebelumnya dan menjelajahi simpul yang belum dijelajahi dari simpul tersebut.\n",
        "Menjelajahi graf ke bagian dalam terlebih dahulu saat mencapai jalan buntu\n",
        "\n",
        "**Kesimpulan:**\n",
        "\n",
        "*   Breadth-first Search (BFS):\n",
        "\n",
        "Mengunjungi node secara berurutan, menyebar ke tetangga-tetangganya sebelum menjelajahi lebih lanjut.\n",
        "Pada BFS hasil dari outpun nya berupa horizontal\n",
        "\n",
        "*   List item\n",
        "\n",
        "\n",
        "Mengeksplorasi satu cabang sejauh mungkin sebelum kembali dan menjelajahi cabang-cabang lain.\n",
        "Pada BFS hasil dari outpun nya berupa Verikal"
      ],
      "metadata": {
        "id": "lj-4dNmBMHeA"
      }
    }
  ]
}